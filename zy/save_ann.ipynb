{
 "nbformat": 4,
 "nbformat_minor": 2,
 "metadata": {
  "language_info": {
   "name": "python",
   "codemirror_mode": {
    "name": "ipython",
    "version": 3
   }
  },
  "orig_nbformat": 2,
  "file_extension": ".py",
  "mimetype": "text/x-python",
  "name": "python",
  "npconvert_exporter": "python",
  "pygments_lexer": "ipython3",
  "version": 3
 },
 "cells": [
  {
   "cell_type": "code",
   "execution_count": 1,
   "metadata": {},
   "outputs": [],
   "source": [
    "from pycocotools.coco import COCO\n",
    "import numpy as np\n",
    "import mmcv"
   ]
  },
  {
   "cell_type": "code",
   "execution_count": 2,
   "metadata": {},
   "outputs": [
    {
     "name": "stdout",
     "output_type": "stream",
     "text": "loading annotations into memory...\nDone (t=0.02s)\ncreating index...\nindex created!\n"
    }
   ],
   "source": [
    "coco = COCO('/home/zhongying/dataset/WalkValidationData/correct_validation_instance.json')"
   ]
  },
  {
   "cell_type": "code",
   "execution_count": 4,
   "metadata": {},
   "outputs": [],
   "source": [
    "for id in coco.getImgIds():\n",
    "    path = '/home/zhongying/dataset/' + coco.loadImgs(id)[0]['file_name']\n",
    "    img_name = coco.loadImgs(id)[0]['file_name'].split('/')[-1]\n",
    "    img = mmcv.imread(path)\n",
    "    anns = coco.loadAnns(coco.getAnnIds(id))\n",
    "    for ann in anns:\n",
    "        mask = coco.annToMask(ann).astype(np.bool)\n",
    "        color_mask = np.array([[0,0,255]], dtype=np.uint8)\n",
    "        img[mask] = img[mask] * 0.5 + color_mask * 0.5\n",
    "    mmcv.imwrite(img, './zy/img/val_ann_all/'+ img_name + '.jpg')\n"
   ]
  },
  {
   "cell_type": "code",
   "execution_count": null,
   "metadata": {},
   "outputs": [],
   "source": []
  }
 ]
}